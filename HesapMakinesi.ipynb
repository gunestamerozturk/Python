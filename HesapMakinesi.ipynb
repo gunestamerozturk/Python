{
 "cells": [
  {
   "cell_type": "code",
   "execution_count": null,
   "id": "238f5aad",
   "metadata": {},
   "outputs": [],
   "source": [
    "def hesapla(a,b,islem):\n",
    "    if islem not in \"+-*/\":\n",
    "        return \"Lütfen + - * / sembollerinden birini seçiniz.\"\n",
    "    if islem == \"+\":\n",
    "        return(str(a)+\" + \"+ str(b) + \"= \" + str(a + b))\n",
    "    if islem == \"-\":\n",
    "        return(str(a)+\" - \" + str(b) + \"= \" + str(a - b))\n",
    "    if islem == \"*\":\n",
    "        return(str(a)+\" * \" + str(b) + \"= \" + str(a * b))\n",
    "    if islem == \"/\":\n",
    "        return(str(a)+\" / \" + str(b) + \"= \" + str(a / b))\n",
    "    \n",
    "while True:\n",
    "    try:\n",
    "        a = int(input(\"İlk sayıyı giriniz: \"))\n",
    "        b = int(input(\"İkinci sayıyı giriniz : \"))\n",
    "        islem = input(\"İşleminizi seçiniz : + - * /\")\n",
    "        print(hesapla(a,b,islem))\n",
    "    except:\n",
    "        print(\"Sayı bilgisi yanlış girildi.\")"
   ]
  }
 ],
 "metadata": {
  "kernelspec": {
   "display_name": "Python 3 (ipykernel)",
   "language": "python",
   "name": "python3"
  },
  "language_info": {
   "codemirror_mode": {
    "name": "ipython",
    "version": 3
   },
   "file_extension": ".py",
   "mimetype": "text/x-python",
   "name": "python",
   "nbconvert_exporter": "python",
   "pygments_lexer": "ipython3",
   "version": "3.9.13"
  }
 },
 "nbformat": 4,
 "nbformat_minor": 5
}
